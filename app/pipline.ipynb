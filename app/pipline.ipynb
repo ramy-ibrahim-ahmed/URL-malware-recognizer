{
 "cells": [
  {
   "cell_type": "code",
   "execution_count": 18,
   "metadata": {},
   "outputs": [],
   "source": [
    "import pandas as pd\n",
    "import joblib\n",
    "from feature_extractor import feature_extraction_pipeline"
   ]
  },
  {
   "cell_type": "code",
   "execution_count": 19,
   "metadata": {},
   "outputs": [
    {
     "data": {
      "text/html": [
       "<div>\n",
       "<style scoped>\n",
       "    .dataframe tbody tr th:only-of-type {\n",
       "        vertical-align: middle;\n",
       "    }\n",
       "\n",
       "    .dataframe tbody tr th {\n",
       "        vertical-align: top;\n",
       "    }\n",
       "\n",
       "    .dataframe thead th {\n",
       "        text-align: right;\n",
       "    }\n",
       "</style>\n",
       "<table border=\"1\" class=\"dataframe\">\n",
       "  <thead>\n",
       "    <tr style=\"text-align: right;\">\n",
       "      <th></th>\n",
       "      <th>url_length</th>\n",
       "      <th>domain_length</th>\n",
       "      <th>path_length</th>\n",
       "      <th>is_IP</th>\n",
       "      <th>num_sub_domains</th>\n",
       "      <th>contains_hexadecimal</th>\n",
       "      <th>entropy</th>\n",
       "      <th>count_num_domain_extension</th>\n",
       "      <th>is_port</th>\n",
       "      <th>digits_count</th>\n",
       "      <th>...</th>\n",
       "      <th>is#</th>\n",
       "      <th>is+</th>\n",
       "      <th>ishttp</th>\n",
       "      <th>ishttps</th>\n",
       "      <th>is.com</th>\n",
       "      <th>iswww.</th>\n",
       "      <th>is.org</th>\n",
       "      <th>is&amp;</th>\n",
       "      <th>is;</th>\n",
       "      <th>is~</th>\n",
       "    </tr>\n",
       "  </thead>\n",
       "  <tbody>\n",
       "    <tr>\n",
       "      <th>0</th>\n",
       "      <td>12</td>\n",
       "      <td>0</td>\n",
       "      <td>0</td>\n",
       "      <td>0</td>\n",
       "      <td>0</td>\n",
       "      <td>0</td>\n",
       "      <td>3.022055</td>\n",
       "      <td>2</td>\n",
       "      <td>0</td>\n",
       "      <td>0</td>\n",
       "      <td>...</td>\n",
       "      <td>0</td>\n",
       "      <td>0</td>\n",
       "      <td>0</td>\n",
       "      <td>0</td>\n",
       "      <td>0</td>\n",
       "      <td>0</td>\n",
       "      <td>0</td>\n",
       "      <td>0</td>\n",
       "      <td>0</td>\n",
       "      <td>0</td>\n",
       "    </tr>\n",
       "  </tbody>\n",
       "</table>\n",
       "<p>1 rows × 34 columns</p>\n",
       "</div>"
      ],
      "text/plain": [
       "   url_length  domain_length  path_length  is_IP  num_sub_domains  \\\n",
       "0          12              0            0      0                0   \n",
       "\n",
       "   contains_hexadecimal   entropy  count_num_domain_extension  is_port  \\\n",
       "0                     0  3.022055                           2        0   \n",
       "\n",
       "   digits_count  ...  is#  is+  ishttp  ishttps  is.com  iswww.  is.org  is&  \\\n",
       "0             0  ...    0    0       0        0       0       0       0    0   \n",
       "\n",
       "   is;  is~  \n",
       "0    0    0  \n",
       "\n",
       "[1 rows x 34 columns]"
      ]
     },
     "execution_count": 19,
     "metadata": {},
     "output_type": "execute_result"
    }
   ],
   "source": [
    "url = \"ressys.co.uk\"\n",
    "features = feature_extraction_pipeline(url)\n",
    "df = pd.DataFrame([features])\n",
    "df.head()"
   ]
  },
  {
   "cell_type": "code",
   "execution_count": 20,
   "metadata": {},
   "outputs": [],
   "source": [
    "scaler = joblib.load(r\"D:\\Flothers\\URL malware recognizer --agent\\models\\scaler_v1.pkl\")"
   ]
  },
  {
   "cell_type": "code",
   "execution_count": 21,
   "metadata": {},
   "outputs": [
    {
     "data": {
      "text/plain": [
       "18"
      ]
     },
     "execution_count": 21,
     "metadata": {},
     "output_type": "execute_result"
    }
   ],
   "source": [
    "numerical_cols = df.select_dtypes(include=[\"number\"]).columns\n",
    "def get_numerical_non_binary_columns(X):\n",
    "    numerical_cols = X.select_dtypes(include=[\"number\"]).columns\n",
    "    non_binary_numerical_cols = [col for col in numerical_cols if X[col].nunique() > 2]\n",
    "    return non_binary_numerical_cols\n",
    "\n",
    "non_binary_numerical_columns = ['url_length', 'domain_length', 'path_length', 'num_sub_domains', 'entropy', 'count_num_domain_extension', 'digits_count', 'alpha_count', 'special_chars_count', 'num_params', 'num_subdomains', 'num-', 'num=', 'num.', 'num%', 'num//', 'num_', 'num/']\n",
    "len(non_binary_numerical_columns)"
   ]
  },
  {
   "cell_type": "code",
   "execution_count": 22,
   "metadata": {},
   "outputs": [
    {
     "data": {
      "text/html": [
       "<div>\n",
       "<style scoped>\n",
       "    .dataframe tbody tr th:only-of-type {\n",
       "        vertical-align: middle;\n",
       "    }\n",
       "\n",
       "    .dataframe tbody tr th {\n",
       "        vertical-align: top;\n",
       "    }\n",
       "\n",
       "    .dataframe thead th {\n",
       "        text-align: right;\n",
       "    }\n",
       "</style>\n",
       "<table border=\"1\" class=\"dataframe\">\n",
       "  <thead>\n",
       "    <tr style=\"text-align: right;\">\n",
       "      <th></th>\n",
       "      <th>url_length</th>\n",
       "      <th>domain_length</th>\n",
       "      <th>path_length</th>\n",
       "      <th>is_IP</th>\n",
       "      <th>num_sub_domains</th>\n",
       "      <th>contains_hexadecimal</th>\n",
       "      <th>entropy</th>\n",
       "      <th>count_num_domain_extension</th>\n",
       "      <th>is_port</th>\n",
       "      <th>digits_count</th>\n",
       "      <th>...</th>\n",
       "      <th>is#</th>\n",
       "      <th>is+</th>\n",
       "      <th>ishttp</th>\n",
       "      <th>ishttps</th>\n",
       "      <th>is.com</th>\n",
       "      <th>iswww.</th>\n",
       "      <th>is.org</th>\n",
       "      <th>is&amp;</th>\n",
       "      <th>is;</th>\n",
       "      <th>is~</th>\n",
       "    </tr>\n",
       "  </thead>\n",
       "  <tbody>\n",
       "    <tr>\n",
       "      <th>0</th>\n",
       "      <td>0.0</td>\n",
       "      <td>0.0</td>\n",
       "      <td>0.0</td>\n",
       "      <td>0</td>\n",
       "      <td>0.0</td>\n",
       "      <td>0</td>\n",
       "      <td>0.0</td>\n",
       "      <td>0.0</td>\n",
       "      <td>0</td>\n",
       "      <td>0.0</td>\n",
       "      <td>...</td>\n",
       "      <td>0</td>\n",
       "      <td>0</td>\n",
       "      <td>0</td>\n",
       "      <td>0</td>\n",
       "      <td>0</td>\n",
       "      <td>0</td>\n",
       "      <td>0</td>\n",
       "      <td>0</td>\n",
       "      <td>0</td>\n",
       "      <td>0</td>\n",
       "    </tr>\n",
       "  </tbody>\n",
       "</table>\n",
       "<p>1 rows × 34 columns</p>\n",
       "</div>"
      ],
      "text/plain": [
       "   url_length  domain_length  path_length  is_IP  num_sub_domains  \\\n",
       "0         0.0            0.0          0.0      0              0.0   \n",
       "\n",
       "   contains_hexadecimal  entropy  count_num_domain_extension  is_port  \\\n",
       "0                     0      0.0                         0.0        0   \n",
       "\n",
       "   digits_count  ...  is#  is+  ishttp  ishttps  is.com  iswww.  is.org  is&  \\\n",
       "0           0.0  ...    0    0       0        0       0       0       0    0   \n",
       "\n",
       "   is;  is~  \n",
       "0    0    0  \n",
       "\n",
       "[1 rows x 34 columns]"
      ]
     },
     "execution_count": 22,
     "metadata": {},
     "output_type": "execute_result"
    }
   ],
   "source": [
    "df[non_binary_numerical_columns] = df[non_binary_numerical_columns].astype(float)\n",
    "df[non_binary_numerical_columns] = scaler.fit_transform(df[non_binary_numerical_columns])\n",
    "df.head()"
   ]
  },
  {
   "cell_type": "code",
   "execution_count": 16,
   "metadata": {},
   "outputs": [
    {
     "data": {
      "text/plain": [
       "array([1])"
      ]
     },
     "execution_count": 16,
     "metadata": {},
     "output_type": "execute_result"
    }
   ],
   "source": [
    "model = joblib.load(r\"D:\\Flothers\\URL malware recognizer --agent\\models\\xgb_model_v1.pkl\")\n",
    "model.predict(df)"
   ]
  }
 ],
 "metadata": {
  "kernelspec": {
   "display_name": "env",
   "language": "python",
   "name": "python3"
  },
  "language_info": {
   "codemirror_mode": {
    "name": "ipython",
    "version": 3
   },
   "file_extension": ".py",
   "mimetype": "text/x-python",
   "name": "python",
   "nbconvert_exporter": "python",
   "pygments_lexer": "ipython3",
   "version": "3.11.4"
  }
 },
 "nbformat": 4,
 "nbformat_minor": 2
}
