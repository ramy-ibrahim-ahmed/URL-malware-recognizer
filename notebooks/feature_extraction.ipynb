{
 "cells": [
  {
   "cell_type": "markdown",
   "metadata": {},
   "source": [
    "# **URL Malware recognitions**"
   ]
  },
  {
   "cell_type": "code",
   "execution_count": 1,
   "metadata": {},
   "outputs": [],
   "source": [
    "import pandas as pd\n",
    "import re\n",
    "from urllib.parse import urlparse\n",
    "from tldextract import extract\n",
    "import math\n",
    "import requests"
   ]
  },
  {
   "cell_type": "markdown",
   "metadata": {},
   "source": [
    "### **Dataset preperation**"
   ]
  },
  {
   "cell_type": "code",
   "execution_count": 2,
   "metadata": {},
   "outputs": [
    {
     "data": {
      "text/html": [
       "<div>\n",
       "<style scoped>\n",
       "    .dataframe tbody tr th:only-of-type {\n",
       "        vertical-align: middle;\n",
       "    }\n",
       "\n",
       "    .dataframe tbody tr th {\n",
       "        vertical-align: top;\n",
       "    }\n",
       "\n",
       "    .dataframe thead th {\n",
       "        text-align: right;\n",
       "    }\n",
       "</style>\n",
       "<table border=\"1\" class=\"dataframe\">\n",
       "  <thead>\n",
       "    <tr style=\"text-align: right;\">\n",
       "      <th></th>\n",
       "      <th>url</th>\n",
       "      <th>type</th>\n",
       "    </tr>\n",
       "  </thead>\n",
       "  <tbody>\n",
       "    <tr>\n",
       "      <th>0</th>\n",
       "      <td>br-icloud.com.br</td>\n",
       "      <td>phishing</td>\n",
       "    </tr>\n",
       "    <tr>\n",
       "      <th>1</th>\n",
       "      <td>mp3raid.com/music/krizz_kaliko.html</td>\n",
       "      <td>benign</td>\n",
       "    </tr>\n",
       "    <tr>\n",
       "      <th>2</th>\n",
       "      <td>bopsecrets.org/rexroth/cr/1.htm</td>\n",
       "      <td>benign</td>\n",
       "    </tr>\n",
       "    <tr>\n",
       "      <th>3</th>\n",
       "      <td>http://www.garage-pirenne.be/index.php?option=...</td>\n",
       "      <td>defacement</td>\n",
       "    </tr>\n",
       "    <tr>\n",
       "      <th>4</th>\n",
       "      <td>http://adventure-nicaragua.net/index.php?optio...</td>\n",
       "      <td>defacement</td>\n",
       "    </tr>\n",
       "  </tbody>\n",
       "</table>\n",
       "</div>"
      ],
      "text/plain": [
       "                                                 url        type\n",
       "0                                   br-icloud.com.br    phishing\n",
       "1                mp3raid.com/music/krizz_kaliko.html      benign\n",
       "2                    bopsecrets.org/rexroth/cr/1.htm      benign\n",
       "3  http://www.garage-pirenne.be/index.php?option=...  defacement\n",
       "4  http://adventure-nicaragua.net/index.php?optio...  defacement"
      ]
     },
     "execution_count": 2,
     "metadata": {},
     "output_type": "execute_result"
    }
   ],
   "source": [
    "data1 = pd.read_csv(r\"row\\kaggle1.csv\")\n",
    "data1.head()"
   ]
  },
  {
   "cell_type": "code",
   "execution_count": 3,
   "metadata": {},
   "outputs": [
    {
     "data": {
      "text/html": [
       "<div>\n",
       "<style scoped>\n",
       "    .dataframe tbody tr th:only-of-type {\n",
       "        vertical-align: middle;\n",
       "    }\n",
       "\n",
       "    .dataframe tbody tr th {\n",
       "        vertical-align: top;\n",
       "    }\n",
       "\n",
       "    .dataframe thead th {\n",
       "        text-align: right;\n",
       "    }\n",
       "</style>\n",
       "<table border=\"1\" class=\"dataframe\">\n",
       "  <thead>\n",
       "    <tr style=\"text-align: right;\">\n",
       "      <th></th>\n",
       "      <th>url</th>\n",
       "      <th>label</th>\n",
       "    </tr>\n",
       "  </thead>\n",
       "  <tbody>\n",
       "    <tr>\n",
       "      <th>0</th>\n",
       "      <td>br-icloud.com.br</td>\n",
       "      <td>1</td>\n",
       "    </tr>\n",
       "    <tr>\n",
       "      <th>1</th>\n",
       "      <td>mp3raid.com/music/krizz_kaliko.html</td>\n",
       "      <td>0</td>\n",
       "    </tr>\n",
       "    <tr>\n",
       "      <th>2</th>\n",
       "      <td>bopsecrets.org/rexroth/cr/1.htm</td>\n",
       "      <td>0</td>\n",
       "    </tr>\n",
       "    <tr>\n",
       "      <th>3</th>\n",
       "      <td>http://www.garage-pirenne.be/index.php?option=...</td>\n",
       "      <td>1</td>\n",
       "    </tr>\n",
       "    <tr>\n",
       "      <th>4</th>\n",
       "      <td>http://adventure-nicaragua.net/index.php?optio...</td>\n",
       "      <td>1</td>\n",
       "    </tr>\n",
       "  </tbody>\n",
       "</table>\n",
       "</div>"
      ],
      "text/plain": [
       "                                                 url  label\n",
       "0                                   br-icloud.com.br      1\n",
       "1                mp3raid.com/music/krizz_kaliko.html      0\n",
       "2                    bopsecrets.org/rexroth/cr/1.htm      0\n",
       "3  http://www.garage-pirenne.be/index.php?option=...      1\n",
       "4  http://adventure-nicaragua.net/index.php?optio...      1"
      ]
     },
     "execution_count": 3,
     "metadata": {},
     "output_type": "execute_result"
    }
   ],
   "source": [
    "data1[\"label\"] = data1[\"type\"].apply(lambda x: 0 if x == \"benign\" else 1)\n",
    "data1.drop(\"type\", axis=1, inplace=True)\n",
    "data1.to_csv(r\"data\\data1.csv\", index=False)\n",
    "data1.head()"
   ]
  },
  {
   "cell_type": "code",
   "execution_count": 4,
   "metadata": {},
   "outputs": [
    {
     "data": {
      "text/html": [
       "<div>\n",
       "<style scoped>\n",
       "    .dataframe tbody tr th:only-of-type {\n",
       "        vertical-align: middle;\n",
       "    }\n",
       "\n",
       "    .dataframe tbody tr th {\n",
       "        vertical-align: top;\n",
       "    }\n",
       "\n",
       "    .dataframe thead th {\n",
       "        text-align: right;\n",
       "    }\n",
       "</style>\n",
       "<table border=\"1\" class=\"dataframe\">\n",
       "  <thead>\n",
       "    <tr style=\"text-align: right;\">\n",
       "      <th></th>\n",
       "      <th>Unnamed: 0</th>\n",
       "      <th>url</th>\n",
       "      <th>label</th>\n",
       "      <th>result</th>\n",
       "    </tr>\n",
       "  </thead>\n",
       "  <tbody>\n",
       "    <tr>\n",
       "      <th>0</th>\n",
       "      <td>0</td>\n",
       "      <td>https://www.google.com</td>\n",
       "      <td>benign</td>\n",
       "      <td>0</td>\n",
       "    </tr>\n",
       "    <tr>\n",
       "      <th>1</th>\n",
       "      <td>1</td>\n",
       "      <td>https://www.youtube.com</td>\n",
       "      <td>benign</td>\n",
       "      <td>0</td>\n",
       "    </tr>\n",
       "    <tr>\n",
       "      <th>2</th>\n",
       "      <td>2</td>\n",
       "      <td>https://www.facebook.com</td>\n",
       "      <td>benign</td>\n",
       "      <td>0</td>\n",
       "    </tr>\n",
       "    <tr>\n",
       "      <th>3</th>\n",
       "      <td>3</td>\n",
       "      <td>https://www.baidu.com</td>\n",
       "      <td>benign</td>\n",
       "      <td>0</td>\n",
       "    </tr>\n",
       "    <tr>\n",
       "      <th>4</th>\n",
       "      <td>4</td>\n",
       "      <td>https://www.wikipedia.org</td>\n",
       "      <td>benign</td>\n",
       "      <td>0</td>\n",
       "    </tr>\n",
       "  </tbody>\n",
       "</table>\n",
       "</div>"
      ],
      "text/plain": [
       "   Unnamed: 0                        url   label  result\n",
       "0           0     https://www.google.com  benign       0\n",
       "1           1    https://www.youtube.com  benign       0\n",
       "2           2   https://www.facebook.com  benign       0\n",
       "3           3      https://www.baidu.com  benign       0\n",
       "4           4  https://www.wikipedia.org  benign       0"
      ]
     },
     "execution_count": 4,
     "metadata": {},
     "output_type": "execute_result"
    }
   ],
   "source": [
    "data2 = pd.read_csv(r\"row\\kaggle2.csv\")\n",
    "data2.head()"
   ]
  },
  {
   "cell_type": "code",
   "execution_count": 5,
   "metadata": {},
   "outputs": [
    {
     "data": {
      "text/html": [
       "<div>\n",
       "<style scoped>\n",
       "    .dataframe tbody tr th:only-of-type {\n",
       "        vertical-align: middle;\n",
       "    }\n",
       "\n",
       "    .dataframe tbody tr th {\n",
       "        vertical-align: top;\n",
       "    }\n",
       "\n",
       "    .dataframe thead th {\n",
       "        text-align: right;\n",
       "    }\n",
       "</style>\n",
       "<table border=\"1\" class=\"dataframe\">\n",
       "  <thead>\n",
       "    <tr style=\"text-align: right;\">\n",
       "      <th></th>\n",
       "      <th>url</th>\n",
       "      <th>label</th>\n",
       "    </tr>\n",
       "  </thead>\n",
       "  <tbody>\n",
       "    <tr>\n",
       "      <th>0</th>\n",
       "      <td>https://www.google.com</td>\n",
       "      <td>0</td>\n",
       "    </tr>\n",
       "    <tr>\n",
       "      <th>1</th>\n",
       "      <td>https://www.youtube.com</td>\n",
       "      <td>0</td>\n",
       "    </tr>\n",
       "    <tr>\n",
       "      <th>2</th>\n",
       "      <td>https://www.facebook.com</td>\n",
       "      <td>0</td>\n",
       "    </tr>\n",
       "    <tr>\n",
       "      <th>3</th>\n",
       "      <td>https://www.baidu.com</td>\n",
       "      <td>0</td>\n",
       "    </tr>\n",
       "    <tr>\n",
       "      <th>4</th>\n",
       "      <td>https://www.wikipedia.org</td>\n",
       "      <td>0</td>\n",
       "    </tr>\n",
       "  </tbody>\n",
       "</table>\n",
       "</div>"
      ],
      "text/plain": [
       "                         url  label\n",
       "0     https://www.google.com      0\n",
       "1    https://www.youtube.com      0\n",
       "2   https://www.facebook.com      0\n",
       "3      https://www.baidu.com      0\n",
       "4  https://www.wikipedia.org      0"
      ]
     },
     "execution_count": 5,
     "metadata": {},
     "output_type": "execute_result"
    }
   ],
   "source": [
    "data2 = data2.drop(columns=[\"label\", \"Unnamed: 0\"])\n",
    "data2.rename(columns={'result': 'label'}, inplace=True)\n",
    "data2.to_csv(r\"data\\data2.csv\", index=False)\n",
    "data2.head()"
   ]
  },
  {
   "cell_type": "code",
   "execution_count": 6,
   "metadata": {},
   "outputs": [
    {
     "data": {
      "text/html": [
       "<div>\n",
       "<style scoped>\n",
       "    .dataframe tbody tr th:only-of-type {\n",
       "        vertical-align: middle;\n",
       "    }\n",
       "\n",
       "    .dataframe tbody tr th {\n",
       "        vertical-align: top;\n",
       "    }\n",
       "\n",
       "    .dataframe thead th {\n",
       "        text-align: right;\n",
       "    }\n",
       "</style>\n",
       "<table border=\"1\" class=\"dataframe\">\n",
       "  <thead>\n",
       "    <tr style=\"text-align: right;\">\n",
       "      <th></th>\n",
       "      <th>url</th>\n",
       "      <th>label</th>\n",
       "      <th>result</th>\n",
       "    </tr>\n",
       "  </thead>\n",
       "  <tbody>\n",
       "    <tr>\n",
       "      <th>0</th>\n",
       "      <td>https://www.google.com</td>\n",
       "      <td>benign</td>\n",
       "      <td>0</td>\n",
       "    </tr>\n",
       "    <tr>\n",
       "      <th>1</th>\n",
       "      <td>https://www.youtube.com</td>\n",
       "      <td>benign</td>\n",
       "      <td>0</td>\n",
       "    </tr>\n",
       "    <tr>\n",
       "      <th>2</th>\n",
       "      <td>https://www.facebook.com</td>\n",
       "      <td>benign</td>\n",
       "      <td>0</td>\n",
       "    </tr>\n",
       "    <tr>\n",
       "      <th>3</th>\n",
       "      <td>https://www.baidu.com</td>\n",
       "      <td>benign</td>\n",
       "      <td>0</td>\n",
       "    </tr>\n",
       "    <tr>\n",
       "      <th>4</th>\n",
       "      <td>https://www.wikipedia.org</td>\n",
       "      <td>benign</td>\n",
       "      <td>0</td>\n",
       "    </tr>\n",
       "  </tbody>\n",
       "</table>\n",
       "</div>"
      ],
      "text/plain": [
       "                         url   label  result\n",
       "0     https://www.google.com  benign       0\n",
       "1    https://www.youtube.com  benign       0\n",
       "2   https://www.facebook.com  benign       0\n",
       "3      https://www.baidu.com  benign       0\n",
       "4  https://www.wikipedia.org  benign       0"
      ]
     },
     "execution_count": 6,
     "metadata": {},
     "output_type": "execute_result"
    }
   ],
   "source": [
    "data3 = pd.read_csv(r\"row\\kaggle3.csv\")\n",
    "data3.head()"
   ]
  },
  {
   "cell_type": "code",
   "execution_count": 7,
   "metadata": {},
   "outputs": [
    {
     "data": {
      "text/html": [
       "<div>\n",
       "<style scoped>\n",
       "    .dataframe tbody tr th:only-of-type {\n",
       "        vertical-align: middle;\n",
       "    }\n",
       "\n",
       "    .dataframe tbody tr th {\n",
       "        vertical-align: top;\n",
       "    }\n",
       "\n",
       "    .dataframe thead th {\n",
       "        text-align: right;\n",
       "    }\n",
       "</style>\n",
       "<table border=\"1\" class=\"dataframe\">\n",
       "  <thead>\n",
       "    <tr style=\"text-align: right;\">\n",
       "      <th></th>\n",
       "      <th>url</th>\n",
       "      <th>label</th>\n",
       "    </tr>\n",
       "  </thead>\n",
       "  <tbody>\n",
       "    <tr>\n",
       "      <th>0</th>\n",
       "      <td>https://www.google.com</td>\n",
       "      <td>0</td>\n",
       "    </tr>\n",
       "    <tr>\n",
       "      <th>1</th>\n",
       "      <td>https://www.youtube.com</td>\n",
       "      <td>0</td>\n",
       "    </tr>\n",
       "    <tr>\n",
       "      <th>2</th>\n",
       "      <td>https://www.facebook.com</td>\n",
       "      <td>0</td>\n",
       "    </tr>\n",
       "    <tr>\n",
       "      <th>3</th>\n",
       "      <td>https://www.baidu.com</td>\n",
       "      <td>0</td>\n",
       "    </tr>\n",
       "    <tr>\n",
       "      <th>4</th>\n",
       "      <td>https://www.wikipedia.org</td>\n",
       "      <td>0</td>\n",
       "    </tr>\n",
       "  </tbody>\n",
       "</table>\n",
       "</div>"
      ],
      "text/plain": [
       "                         url  label\n",
       "0     https://www.google.com      0\n",
       "1    https://www.youtube.com      0\n",
       "2   https://www.facebook.com      0\n",
       "3      https://www.baidu.com      0\n",
       "4  https://www.wikipedia.org      0"
      ]
     },
     "execution_count": 7,
     "metadata": {},
     "output_type": "execute_result"
    }
   ],
   "source": [
    "data3 = data3.drop(columns=[\"label\"])\n",
    "data3.rename(columns={\"result\": \"label\"}, inplace=True)\n",
    "data3.to_csv(r\"data\\data3.csv\", index=False)\n",
    "data3.head()"
   ]
  },
  {
   "cell_type": "code",
   "execution_count": 8,
   "metadata": {},
   "outputs": [
    {
     "data": {
      "text/html": [
       "<div>\n",
       "<style scoped>\n",
       "    .dataframe tbody tr th:only-of-type {\n",
       "        vertical-align: middle;\n",
       "    }\n",
       "\n",
       "    .dataframe tbody tr th {\n",
       "        vertical-align: top;\n",
       "    }\n",
       "\n",
       "    .dataframe thead th {\n",
       "        text-align: right;\n",
       "    }\n",
       "</style>\n",
       "<table border=\"1\" class=\"dataframe\">\n",
       "  <thead>\n",
       "    <tr style=\"text-align: right;\">\n",
       "      <th></th>\n",
       "      <th>url</th>\n",
       "      <th>malware</th>\n",
       "    </tr>\n",
       "  </thead>\n",
       "  <tbody>\n",
       "    <tr>\n",
       "      <th>0</th>\n",
       "      <td>https://fhantommwallet.gitbook.io/us</td>\n",
       "      <td>1</td>\n",
       "    </tr>\n",
       "    <tr>\n",
       "      <th>1</th>\n",
       "      <td>https://formularul-web-al-contului.webflow.io/</td>\n",
       "      <td>1</td>\n",
       "    </tr>\n",
       "    <tr>\n",
       "      <th>2</th>\n",
       "      <td>https://docs.google.com/presentation/d/e/2PACX...</td>\n",
       "      <td>1</td>\n",
       "    </tr>\n",
       "    <tr>\n",
       "      <th>3</th>\n",
       "      <td>https://geemoniahlogiinx.gitbook.io/usa</td>\n",
       "      <td>1</td>\n",
       "    </tr>\n",
       "    <tr>\n",
       "      <th>4</th>\n",
       "      <td>https://geimenizlogen.gitbook.io/us</td>\n",
       "      <td>1</td>\n",
       "    </tr>\n",
       "  </tbody>\n",
       "</table>\n",
       "</div>"
      ],
      "text/plain": [
       "                                                 url  malware\n",
       "0               https://fhantommwallet.gitbook.io/us        1\n",
       "1     https://formularul-web-al-contului.webflow.io/        1\n",
       "2  https://docs.google.com/presentation/d/e/2PACX...        1\n",
       "3            https://geemoniahlogiinx.gitbook.io/usa        1\n",
       "4                https://geimenizlogen.gitbook.io/us        1"
      ]
     },
     "execution_count": 8,
     "metadata": {},
     "output_type": "execute_result"
    }
   ],
   "source": [
    "data4 = pd.read_csv(r\"row\\phishtank_.csv\")\n",
    "data4.head()"
   ]
  },
  {
   "cell_type": "code",
   "execution_count": 9,
   "metadata": {},
   "outputs": [
    {
     "data": {
      "text/html": [
       "<div>\n",
       "<style scoped>\n",
       "    .dataframe tbody tr th:only-of-type {\n",
       "        vertical-align: middle;\n",
       "    }\n",
       "\n",
       "    .dataframe tbody tr th {\n",
       "        vertical-align: top;\n",
       "    }\n",
       "\n",
       "    .dataframe thead th {\n",
       "        text-align: right;\n",
       "    }\n",
       "</style>\n",
       "<table border=\"1\" class=\"dataframe\">\n",
       "  <thead>\n",
       "    <tr style=\"text-align: right;\">\n",
       "      <th></th>\n",
       "      <th>url</th>\n",
       "      <th>label</th>\n",
       "    </tr>\n",
       "  </thead>\n",
       "  <tbody>\n",
       "    <tr>\n",
       "      <th>0</th>\n",
       "      <td>https://fhantommwallet.gitbook.io/us</td>\n",
       "      <td>1</td>\n",
       "    </tr>\n",
       "    <tr>\n",
       "      <th>1</th>\n",
       "      <td>https://formularul-web-al-contului.webflow.io/</td>\n",
       "      <td>1</td>\n",
       "    </tr>\n",
       "    <tr>\n",
       "      <th>2</th>\n",
       "      <td>https://docs.google.com/presentation/d/e/2PACX...</td>\n",
       "      <td>1</td>\n",
       "    </tr>\n",
       "    <tr>\n",
       "      <th>3</th>\n",
       "      <td>https://geemoniahlogiinx.gitbook.io/usa</td>\n",
       "      <td>1</td>\n",
       "    </tr>\n",
       "    <tr>\n",
       "      <th>4</th>\n",
       "      <td>https://geimenizlogen.gitbook.io/us</td>\n",
       "      <td>1</td>\n",
       "    </tr>\n",
       "  </tbody>\n",
       "</table>\n",
       "</div>"
      ],
      "text/plain": [
       "                                                 url  label\n",
       "0               https://fhantommwallet.gitbook.io/us      1\n",
       "1     https://formularul-web-al-contului.webflow.io/      1\n",
       "2  https://docs.google.com/presentation/d/e/2PACX...      1\n",
       "3            https://geemoniahlogiinx.gitbook.io/usa      1\n",
       "4                https://geimenizlogen.gitbook.io/us      1"
      ]
     },
     "execution_count": 9,
     "metadata": {},
     "output_type": "execute_result"
    }
   ],
   "source": [
    "data4.rename(columns={\"malware\": \"label\"}, inplace=True)\n",
    "data4.to_csv(r\"data\\phishtank.csv\", index=False)\n",
    "data4.head()"
   ]
  },
  {
   "cell_type": "code",
   "execution_count": 10,
   "metadata": {},
   "outputs": [
    {
     "data": {
      "text/html": [
       "<div>\n",
       "<style scoped>\n",
       "    .dataframe tbody tr th:only-of-type {\n",
       "        vertical-align: middle;\n",
       "    }\n",
       "\n",
       "    .dataframe tbody tr th {\n",
       "        vertical-align: top;\n",
       "    }\n",
       "\n",
       "    .dataframe thead th {\n",
       "        text-align: right;\n",
       "    }\n",
       "</style>\n",
       "<table border=\"1\" class=\"dataframe\">\n",
       "  <thead>\n",
       "    <tr style=\"text-align: right;\">\n",
       "      <th></th>\n",
       "      <th>url</th>\n",
       "      <th>malware</th>\n",
       "    </tr>\n",
       "  </thead>\n",
       "  <tbody>\n",
       "    <tr>\n",
       "      <th>0</th>\n",
       "      <td>\"http://117.194.218.20:56416/i\"</td>\n",
       "      <td>1</td>\n",
       "    </tr>\n",
       "    <tr>\n",
       "      <th>1</th>\n",
       "      <td>\"http://120.61.13.70:41627/bin.sh\"</td>\n",
       "      <td>1</td>\n",
       "    </tr>\n",
       "    <tr>\n",
       "      <th>2</th>\n",
       "      <td>\"http://59.182.81.104:54634/i\"</td>\n",
       "      <td>1</td>\n",
       "    </tr>\n",
       "    <tr>\n",
       "      <th>3</th>\n",
       "      <td>\"http://182.57.236.204:51822/i\"</td>\n",
       "      <td>1</td>\n",
       "    </tr>\n",
       "    <tr>\n",
       "      <th>4</th>\n",
       "      <td>\"http://117.255.24.102:40653/i\"</td>\n",
       "      <td>1</td>\n",
       "    </tr>\n",
       "  </tbody>\n",
       "</table>\n",
       "</div>"
      ],
      "text/plain": [
       "                                  url  malware\n",
       "0     \"http://117.194.218.20:56416/i\"        1\n",
       "1  \"http://120.61.13.70:41627/bin.sh\"        1\n",
       "2      \"http://59.182.81.104:54634/i\"        1\n",
       "3     \"http://182.57.236.204:51822/i\"        1\n",
       "4     \"http://117.255.24.102:40653/i\"        1"
      ]
     },
     "execution_count": 10,
     "metadata": {},
     "output_type": "execute_result"
    }
   ],
   "source": [
    "data5 = pd.read_csv(r\"row\\URLhaus_.csv\")\n",
    "data5.head()"
   ]
  },
  {
   "cell_type": "code",
   "execution_count": 11,
   "metadata": {},
   "outputs": [
    {
     "name": "stdout",
     "output_type": "stream",
     "text": [
      "237793\n"
     ]
    },
    {
     "data": {
      "text/html": [
       "<div>\n",
       "<style scoped>\n",
       "    .dataframe tbody tr th:only-of-type {\n",
       "        vertical-align: middle;\n",
       "    }\n",
       "\n",
       "    .dataframe tbody tr th {\n",
       "        vertical-align: top;\n",
       "    }\n",
       "\n",
       "    .dataframe thead th {\n",
       "        text-align: right;\n",
       "    }\n",
       "</style>\n",
       "<table border=\"1\" class=\"dataframe\">\n",
       "  <thead>\n",
       "    <tr style=\"text-align: right;\">\n",
       "      <th></th>\n",
       "      <th>url</th>\n",
       "      <th>label</th>\n",
       "    </tr>\n",
       "  </thead>\n",
       "  <tbody>\n",
       "    <tr>\n",
       "      <th>0</th>\n",
       "      <td>http://117.204.202.97:58028/Mozi.m</td>\n",
       "      <td>1</td>\n",
       "    </tr>\n",
       "    <tr>\n",
       "      <th>1</th>\n",
       "      <td>http://gerlia.shop:8888/3451.dll</td>\n",
       "      <td>1</td>\n",
       "    </tr>\n",
       "    <tr>\n",
       "      <th>2</th>\n",
       "      <td>http://117.248.175.138:52953/i</td>\n",
       "      <td>1</td>\n",
       "    </tr>\n",
       "    <tr>\n",
       "      <th>3</th>\n",
       "      <td>http://flameshamer.shop:8888/3193.dll</td>\n",
       "      <td>1</td>\n",
       "    </tr>\n",
       "    <tr>\n",
       "      <th>4</th>\n",
       "      <td>http://hild.shop:8888/4276.dll</td>\n",
       "      <td>1</td>\n",
       "    </tr>\n",
       "  </tbody>\n",
       "</table>\n",
       "</div>"
      ],
      "text/plain": [
       "                                     url  label\n",
       "0     http://117.204.202.97:58028/Mozi.m      1\n",
       "1       http://gerlia.shop:8888/3451.dll      1\n",
       "2         http://117.248.175.138:52953/i      1\n",
       "3  http://flameshamer.shop:8888/3193.dll      1\n",
       "4         http://hild.shop:8888/4276.dll      1"
      ]
     },
     "execution_count": 11,
     "metadata": {},
     "output_type": "execute_result"
    }
   ],
   "source": [
    "def remove_quotes_from_url(url):\n",
    "    return url.replace('\"', \"\")\n",
    "\n",
    "\n",
    "data5.loc[:, \"url\"] = data5[\"url\"].apply(remove_quotes_from_url)\n",
    "data5.rename(columns={\"malware\": \"label\"}, inplace=True)\n",
    "data5.to_csv(r\"data\\URLhaus.csv\", index=False)\n",
    "print(len(data5))\n",
    "data5 = data5.sample(frac=1).reset_index(drop=True)\n",
    "data5 = data5[:100000]\n",
    "data5.head()"
   ]
  },
  {
   "cell_type": "code",
   "execution_count": 12,
   "metadata": {},
   "outputs": [
    {
     "data": {
      "text/html": [
       "<div>\n",
       "<style scoped>\n",
       "    .dataframe tbody tr th:only-of-type {\n",
       "        vertical-align: middle;\n",
       "    }\n",
       "\n",
       "    .dataframe tbody tr th {\n",
       "        vertical-align: top;\n",
       "    }\n",
       "\n",
       "    .dataframe thead th {\n",
       "        text-align: right;\n",
       "    }\n",
       "</style>\n",
       "<table border=\"1\" class=\"dataframe\">\n",
       "  <thead>\n",
       "    <tr style=\"text-align: right;\">\n",
       "      <th></th>\n",
       "      <th>url</th>\n",
       "    </tr>\n",
       "  </thead>\n",
       "  <tbody>\n",
       "    <tr>\n",
       "      <th>0</th>\n",
       "      <td>connectify.me</td>\n",
       "    </tr>\n",
       "    <tr>\n",
       "      <th>1</th>\n",
       "      <td>trendmicro.com</td>\n",
       "    </tr>\n",
       "    <tr>\n",
       "      <th>2</th>\n",
       "      <td>samsung.com</td>\n",
       "    </tr>\n",
       "    <tr>\n",
       "      <th>3</th>\n",
       "      <td>vmware.com</td>\n",
       "    </tr>\n",
       "    <tr>\n",
       "      <th>4</th>\n",
       "      <td>cisco.com</td>\n",
       "    </tr>\n",
       "  </tbody>\n",
       "</table>\n",
       "</div>"
      ],
      "text/plain": [
       "              url\n",
       "0   connectify.me\n",
       "1  trendmicro.com\n",
       "2     samsung.com\n",
       "3      vmware.com\n",
       "4       cisco.com"
      ]
     },
     "execution_count": 12,
     "metadata": {},
     "output_type": "execute_result"
    }
   ],
   "source": [
    "data6 = pd.read_csv(r\"row\\top_1m.csv\")\n",
    "data6.head()"
   ]
  },
  {
   "cell_type": "code",
   "execution_count": 13,
   "metadata": {},
   "outputs": [
    {
     "name": "stdout",
     "output_type": "stream",
     "text": [
      "2000\n"
     ]
    },
    {
     "data": {
      "text/html": [
       "<div>\n",
       "<style scoped>\n",
       "    .dataframe tbody tr th:only-of-type {\n",
       "        vertical-align: middle;\n",
       "    }\n",
       "\n",
       "    .dataframe tbody tr th {\n",
       "        vertical-align: top;\n",
       "    }\n",
       "\n",
       "    .dataframe thead th {\n",
       "        text-align: right;\n",
       "    }\n",
       "</style>\n",
       "<table border=\"1\" class=\"dataframe\">\n",
       "  <thead>\n",
       "    <tr style=\"text-align: right;\">\n",
       "      <th></th>\n",
       "      <th>url</th>\n",
       "      <th>label</th>\n",
       "    </tr>\n",
       "  </thead>\n",
       "  <tbody>\n",
       "    <tr>\n",
       "      <th>0</th>\n",
       "      <td>connectify.me</td>\n",
       "      <td>0</td>\n",
       "    </tr>\n",
       "    <tr>\n",
       "      <th>1</th>\n",
       "      <td>trendmicro.com</td>\n",
       "      <td>0</td>\n",
       "    </tr>\n",
       "    <tr>\n",
       "      <th>2</th>\n",
       "      <td>samsung.com</td>\n",
       "      <td>0</td>\n",
       "    </tr>\n",
       "    <tr>\n",
       "      <th>3</th>\n",
       "      <td>vmware.com</td>\n",
       "      <td>0</td>\n",
       "    </tr>\n",
       "    <tr>\n",
       "      <th>4</th>\n",
       "      <td>cisco.com</td>\n",
       "      <td>0</td>\n",
       "    </tr>\n",
       "  </tbody>\n",
       "</table>\n",
       "</div>"
      ],
      "text/plain": [
       "              url  label\n",
       "0   connectify.me      0\n",
       "1  trendmicro.com      0\n",
       "2     samsung.com      0\n",
       "3      vmware.com      0\n",
       "4       cisco.com      0"
      ]
     },
     "execution_count": 13,
     "metadata": {},
     "output_type": "execute_result"
    }
   ],
   "source": [
    "data6[\"label\"] = 0\n",
    "data6 = data6[:2000]\n",
    "print(len(data6))\n",
    "data6.head()"
   ]
  },
  {
   "cell_type": "code",
   "execution_count": 14,
   "metadata": {},
   "outputs": [
    {
     "data": {
      "text/plain": [
       "(label\n",
       " 0    428103\n",
       " 1    223088\n",
       " Name: count, dtype: int64,\n",
       " label\n",
       " 0    345738\n",
       " 1    104438\n",
       " Name: count, dtype: int64,\n",
       " label\n",
       " 0    316254\n",
       " 1    316254\n",
       " Name: count, dtype: int64)"
      ]
     },
     "execution_count": 14,
     "metadata": {},
     "output_type": "execute_result"
    }
   ],
   "source": [
    "data1[\"label\"].value_counts(), data2[\"label\"].value_counts(), data3[\"label\"].value_counts()"
   ]
  },
  {
   "cell_type": "code",
   "execution_count": 15,
   "metadata": {},
   "outputs": [],
   "source": [
    "merged_df = pd.concat([data1, data2, data3, data4, data5, data6])"
   ]
  },
  {
   "cell_type": "code",
   "execution_count": 16,
   "metadata": {},
   "outputs": [
    {
     "data": {
      "text/plain": [
       "label\n",
       "0    1092095\n",
       "1     811203\n",
       "Name: count, dtype: int64"
      ]
     },
     "execution_count": 16,
     "metadata": {},
     "output_type": "execute_result"
    }
   ],
   "source": [
    "merged_df[\"label\"].value_counts()"
   ]
  },
  {
   "cell_type": "code",
   "execution_count": 17,
   "metadata": {},
   "outputs": [
    {
     "name": "stdout",
     "output_type": "stream",
     "text": [
      "len data before removing duplicates 1903298\n",
      "len data after removing duplicates 1259572\n"
     ]
    }
   ],
   "source": [
    "print(\"len data before removing duplicates\" ,len(merged_df))\n",
    "data = merged_df.drop_duplicates(subset=[\"url\"])\n",
    "print(\"len data after removing duplicates\" ,len(data))"
   ]
  },
  {
   "cell_type": "code",
   "execution_count": 18,
   "metadata": {},
   "outputs": [
    {
     "data": {
      "text/plain": [
       "label\n",
       "0    775813\n",
       "1    483759\n",
       "Name: count, dtype: int64"
      ]
     },
     "execution_count": 18,
     "metadata": {},
     "output_type": "execute_result"
    }
   ],
   "source": [
    "data[\"label\"].value_counts()"
   ]
  },
  {
   "cell_type": "code",
   "execution_count": 19,
   "metadata": {},
   "outputs": [
    {
     "data": {
      "text/plain": [
       "url      0\n",
       "label    0\n",
       "dtype: int64"
      ]
     },
     "execution_count": 19,
     "metadata": {},
     "output_type": "execute_result"
    }
   ],
   "source": [
    "data.isnull().sum()"
   ]
  },
  {
   "cell_type": "code",
   "execution_count": 22,
   "metadata": {},
   "outputs": [],
   "source": [
    "data = data.sample(frac=1).reset_index(drop=True)\n",
    "data.to_csv(r\"data/full_data.csv\", index=False)"
   ]
  },
  {
   "cell_type": "markdown",
   "metadata": {},
   "source": [
    "### **Feature Extraction**"
   ]
  },
  {
   "cell_type": "code",
   "execution_count": null,
   "metadata": {},
   "outputs": [],
   "source": [
    "data_copy = data.copy()"
   ]
  },
  {
   "cell_type": "code",
   "execution_count": null,
   "metadata": {},
   "outputs": [],
   "source": [
    "# URL length\n",
    "data_copy[\"url_length\"] = data[\"url\"].apply(len)\n",
    "\n",
    "\n",
    "# Domain length\n",
    "data_copy[\"domain_length\"] = data[\"url\"].apply(\n",
    "    lambda x: len(x.split(\"/\")[2]) if len(x.split(\"/\")) > 2 else 0\n",
    ")\n",
    "\n",
    "# Path length\n",
    "\n",
    "data_copy[\"path_length\"] = data[\"url\"].apply(\n",
    "    lambda x: len(x.split(\"/\", 3)[-1]) if len(x.split(\"/\")) > 3 else 0\n",
    ")\n",
    "\n",
    "# Num dots in domain\n",
    "data_copy[\"num_dots_domain\"] = data[\"url\"].apply(\n",
    "    lambda x: x.split(\"/\")[2].count(\".\") if len(x.split(\"/\")) > 2 else 0\n",
    ")"
   ]
  },
  {
   "cell_type": "code",
   "execution_count": null,
   "metadata": {},
   "outputs": [],
   "source": [
    "features = [\"@\", \"?\", \"-\", \"=\", \".\", \"#\", \"%\", \"+\", \"$\", \"!\", \"*\", \",\", \"//\", \"http\", \"https\", \"ftp/\", \".com\", \"www.\", \".ai\", \".org\", \"index\", \"&\", \";\", \"_\", \"~\", \"php\", \"asp\", \"action\", \"view\", \"cgi\", \"login\"]\n",
    "\n",
    "def count_features(url):\n",
    "    return {feature: url.count(feature) for feature in features}\n",
    "\n",
    "feature_counts = data[\"url\"].apply(count_features)\n",
    "data_copy = data_copy.join(pd.DataFrame(feature_counts.tolist(), index=data.index))\n",
    "\n",
    "total_counts = data_copy[features].sum()\n",
    "print(total_counts)"
   ]
  },
  {
   "cell_type": "code",
   "execution_count": null,
   "metadata": {},
   "outputs": [],
   "source": [
    "def contains_ipv4(url):\n",
    "    ip_pattern = r\"\\b((25[0-5]|2[0-4][0-9]|[01]?[0-9][0-9]?)\\.){3}(25[0-5]|2[0-4][0-9]|[01]?[0-9][0-9]?)\\b\"\n",
    "    return 1 if bool(re.search(ip_pattern, url)) else 0\n",
    "\n",
    "\n",
    "\n",
    "data_copy.loc[:, \"contains_IPv4\"] = data[\"url\"].apply(contains_ipv4)\n",
    "data_copy[\"contains_IPv4\"].value_counts()"
   ]
  },
  {
   "cell_type": "code",
   "execution_count": null,
   "metadata": {},
   "outputs": [],
   "source": [
    "def contains_ipv6(url):\n",
    "    ipv6_pattern = (\n",
    "        r\"\\b(([0-9a-fA-F]{1,4}:){7,7}[0-9a-fA-F]{1,4}|\"\n",
    "        + r\"([0-9a-fA-F]{1,4}:){1,7}:|\"\n",
    "        + r\"([0-9a-fA-F]{1,4}:){1,6}:[0-9a-fA-F]{1,4}|\"\n",
    "        + r\"([0-9a-fA-F]{1,4}:){1,5}(:[0-9a-fA-F]{1,4}){1,2}|\"\n",
    "        + r\"([0-9a-fA-F]{1,4}:){1,4}(:[0-9a-fA-F]{1,4}){1,3}|\"\n",
    "        + r\"([0-9a-fA-F]{1,4}:){1,3}(:[0-9a-fA-F]{1,4}){1,4}|\"\n",
    "        + r\"([0-9a-fA-F]{1,4}:){1,2}(:[0-9a-fA-F]{1,4}){1,5}|\"\n",
    "        + r\"[0-9a-fA-F]{1,4}:((:[0-9a-fA-F]{1,4}){1,6})|\"\n",
    "        + r\":((:[0-9a-fA-F]{1,4}){1,7}|:)|\"\n",
    "        + r\"fe80:(:[0-9a-fA-F]{0,4}){0,4}%[0-9a-zA-Z]{1,}|\"\n",
    "        + r\"::(ffff(:0{1,4}){0,1}:){0,1}\"\n",
    "        + r\"((25[0-5]|(2[0-4]|1{0,1}[0-9]|[1-9]?)[0-9])\\.){3,3}\"\n",
    "        + r\"(25[0-5]|(2[0-4]|1{0,1}[0-9]|[1-9]?)[0-9])|\"\n",
    "        + r\"([0-9a-fA-F]{1,4}:){1,4}:\"\n",
    "        + r\"((25[0-5]|(2[0-4]|1{0,1}[0-9]|[1-9]?)[0-9])\\.){3,3}\"\n",
    "        + r\"(25[0-5]|(2[0-4]|1{0,1}[0-9]|[1-9]?)[0-9]))\\b\"\n",
    "    )\n",
    "\n",
    "    return 1 if bool(re.search(ipv6_pattern, url)) else 0\n",
    "\n",
    "\n",
    "data_copy.loc[:, \"contains_IPv6\"] = data[\"url\"].apply(contains_ipv6)\n",
    "data_copy[\"contains_IPv6\"].value_counts()"
   ]
  },
  {
   "cell_type": "code",
   "execution_count": null,
   "metadata": {},
   "outputs": [],
   "source": [
    "def contains_ip_address(url):\n",
    "    ipv4_pattern = contains_ipv4(url)\n",
    "    ipv6_pattern = contains_ipv6(url)\n",
    "\n",
    "    return 0 if ipv4_pattern + ipv6_pattern == 0 else 1\n",
    "\n",
    "\n",
    "data_copy.loc[:, \"IP_exist\"] = data[\"url\"].apply(contains_ip_address)\n",
    "data_copy[\"IP_exist\"].value_counts()"
   ]
  },
  {
   "cell_type": "code",
   "execution_count": null,
   "metadata": {},
   "outputs": [],
   "source": [
    "def get_number_of_subdomains(url):\n",
    "    # Remove the protocol (http:// or https://)\n",
    "    domain = re.sub(r\"^https?://\", \"\", url).split(\"/\")[0]\n",
    "    # Split the domain into parts\n",
    "    domain_parts = domain.split(\".\")\n",
    "    # Calculate the number of subdomains\n",
    "    if len(domain_parts) <= 2:\n",
    "        return 0\n",
    "    return len(domain_parts) - 2\n",
    "\n",
    "\n",
    "\n",
    "data_copy.loc[:, \"num_subdomains\"] = data[\"url\"].apply(get_number_of_subdomains)"
   ]
  },
  {
   "cell_type": "code",
   "execution_count": null,
   "metadata": {},
   "outputs": [],
   "source": [
    "def contains_hexadecimal(url):\n",
    "    hex_pattern = r\"%[0-9A-Fa-f]{2}\"\n",
    "    return 1 if bool(re.search(hex_pattern, url)) else 0\n",
    "\n",
    "\n",
    "\n",
    "data_copy.loc[:, \"contains_hexadecimal\"] = data[\"url\"].apply(contains_hexadecimal)\n",
    "\n",
    "\n",
    "data_copy[\"contains_hexadecimal\"].value_counts()"
   ]
  },
  {
   "cell_type": "code",
   "execution_count": null,
   "metadata": {},
   "outputs": [],
   "source": [
    "def calculate_entropy(url):\n",
    "    string = url.strip()\n",
    "    if not string:\n",
    "        return 0.0  # Return 0 entropy for empty strings\n",
    "    # Count the frequency of each character\n",
    "    frequency = {c: string.count(c) for c in set(string)}\n",
    "    length = len(string)\n",
    "    # Calculate probabilities\n",
    "    prob = [count / length for count in frequency.values()]\n",
    "    # Calculate entropy\n",
    "    entropy = sum(p * math.log(p, 2) for p in prob if p > 0)\n",
    "    return entropy\n",
    "\n",
    "\n",
    "data_copy.loc[:, \"entropy\"] = data[\"url\"].apply(calculate_entropy)\n",
    "data_copy[\"entropy\"].head()"
   ]
  },
  {
   "cell_type": "code",
   "execution_count": null,
   "metadata": {},
   "outputs": [],
   "source": [
    "def count_chars_domain_extension(url):\n",
    "    # Remove the protocol (http://, https://) if present\n",
    "    url = url.split(\"//\")[-1]\n",
    "    # Split the URL to get the domain part\n",
    "    domain = url.split(\"/\")[0]\n",
    "    # Find the position of the last dot in the domain\n",
    "    last_dot_index = domain.rfind(\".\")\n",
    "    if last_dot_index == -1:\n",
    "        return -1  # No dot found, hence no extension\n",
    "    # Extract the part after the last dot\n",
    "    ext = domain[last_dot_index + 1 :]\n",
    "    # Check if extension contains only alphabetic characters\n",
    "    if not ext.isalpha():\n",
    "        return -1\n",
    "    # Return the length of the extension or 0 if it exceeds 4 characters\n",
    "    return min(len(ext), 4)\n",
    "\n",
    "\n",
    "data_copy.loc[:, \"count_num_domain_extension\"] = data[\"url\"].apply(count_chars_domain_extension)\n",
    "data_copy[\"count_num_domain_extension\"].value_counts()"
   ]
  },
  {
   "cell_type": "code",
   "execution_count": null,
   "metadata": {},
   "outputs": [],
   "source": [
    "pd.crosstab(data_copy['label'], data_copy['count_num_domain_extension'])"
   ]
  },
  {
   "cell_type": "code",
   "execution_count": null,
   "metadata": {},
   "outputs": [],
   "source": [
    "def is_pre_domain(url):\n",
    "    # Extract domain components using tldextract\n",
    "    extracted = extract(url)\n",
    "    # Check if a primary domain is present\n",
    "    if extracted.domain and extracted.suffix:\n",
    "        return 1\n",
    "    return 0\n",
    "\n",
    "\n",
    "data_copy[\"is_pre_domain\"] = data[\"url\"].apply(is_pre_domain)\n",
    "pd.crosstab(data_copy[\"label\"], data_copy[\"is_pre_domain\"])"
   ]
  },
  {
   "cell_type": "code",
   "execution_count": null,
   "metadata": {},
   "outputs": [],
   "source": [
    "def is_port(url):\n",
    "    try:\n",
    "        parsed_url = urlparse(url)\n",
    "        return 1 if parsed_url.port else 0\n",
    "    except:\n",
    "        return 0\n",
    "\n",
    "\n",
    "data_copy[\"is_port\"] = data[\"url\"].apply(is_port)\n",
    "pd.crosstab(data_copy[\"label\"], data_copy[\"is_port\"])"
   ]
  },
  {
   "cell_type": "code",
   "execution_count": null,
   "metadata": {},
   "outputs": [],
   "source": [
    "data_copy.head()"
   ]
  },
  {
   "cell_type": "code",
   "execution_count": null,
   "metadata": {},
   "outputs": [],
   "source": [
    "def count_digits_in_url(url):\n",
    "    count = 0\n",
    "    for char in url:\n",
    "        if char.isdigit():\n",
    "            count += 1\n",
    "    return int(count)\n",
    "\n",
    "\n",
    "data_copy[\"digits_count\"] = data[\"url\"].apply(count_digits_in_url)\n",
    "data_copy[\"digits_count\"] = data_copy[\"digits_count\"]\n",
    "data_copy[\"digits_count\"].head()"
   ]
  },
  {
   "cell_type": "code",
   "execution_count": null,
   "metadata": {},
   "outputs": [],
   "source": [
    "def count_chars_in_url(url):\n",
    "    count = 0\n",
    "    for char in url:\n",
    "        if char.isalpha():\n",
    "            count += 1\n",
    "    return count\n",
    "\n",
    "\n",
    "data_copy[\"alpha_count\"] = data[\"url\"].apply(count_chars_in_url)\n",
    "data_copy[\"alpha_count\"].head()"
   ]
  },
  {
   "cell_type": "code",
   "execution_count": null,
   "metadata": {},
   "outputs": [],
   "source": [
    "def count_special_in_url(url):\n",
    "    count = 0\n",
    "    for char in url:\n",
    "        if not char.isalnum():\n",
    "            count += 1\n",
    "    return count\n",
    "\n",
    "\n",
    "data_copy[\"special_chars_count\"] = data[\"url\"].apply(count_special_in_url)\n",
    "data_copy[\"special_chars_count\"].head()"
   ]
  },
  {
   "cell_type": "code",
   "execution_count": null,
   "metadata": {},
   "outputs": [],
   "source": [
    "def host_exist(url):\n",
    "    try:\n",
    "        # Parse the URL to get the hostname\n",
    "        hostname = urlparse(url).hostname\n",
    "        # If the hostname is None, return 0\n",
    "        if hostname is None:\n",
    "            return 0\n",
    "        # Escape special characters in the hostname for regex search\n",
    "        escaped_hostname = re.escape(hostname)\n",
    "        # Check if the hostname is present in the URL\n",
    "        # We use a non-overlapping search to avoid false positives\n",
    "        if re.search(escaped_hostname, url):\n",
    "            return 1\n",
    "        else:\n",
    "            return 0\n",
    "    except:\n",
    "        return 0\n",
    "\n",
    "\n",
    "data_copy[\"is_host\"] = data[\"url\"].apply(lambda url: host_exist(url))\n",
    "pd.crosstab(data_copy[\"label\"], data_copy[\"is_host\"])"
   ]
  },
  {
   "cell_type": "code",
   "execution_count": null,
   "metadata": {},
   "outputs": [],
   "source": [
    "def num_parameters(url):\n",
    "    params = url.split(\"&\")\n",
    "    return len(params) - 1\n",
    "\n",
    "data_copy[\"num_params\"] = data[\"url\"].apply(num_parameters)\n",
    "pd.crosstab(data_copy[\"label\"], data_copy[\"num_params\"])"
   ]
  },
  {
   "cell_type": "code",
   "execution_count": null,
   "metadata": {},
   "outputs": [],
   "source": [
    "def num_fragments(url):\n",
    "    fragments = url.split(\"#\")\n",
    "    return len(fragments) - 1\n",
    "\n",
    "\n",
    "data_copy[\"num_fragments\"] = data[\"url\"].apply(num_fragments)\n",
    "pd.crosstab(data_copy[\"label\"], data_copy[\"num_fragments\"])"
   ]
  },
  {
   "cell_type": "code",
   "execution_count": null,
   "metadata": {},
   "outputs": [],
   "source": [
    "def num_sub_domains(url):\n",
    "    subdomains = url.split(\"http\")[-1].split(\"//\")[-1].split(\"/\")\n",
    "    return len(subdomains) - 1\n",
    "\n",
    "\n",
    "data_copy[\"num_sub_domains\"] = data[\"url\"].apply(num_sub_domains)\n",
    "pd.crosstab(data_copy[\"label\"], data_copy[\"num_sub_domains\"])"
   ]
  },
  {
   "cell_type": "code",
   "execution_count": null,
   "metadata": {},
   "outputs": [],
   "source": [
    "def domain_extension(url):\n",
    "    try:\n",
    "        # Parse the URL to get the netloc (domain)\n",
    "        netloc = urlparse(url).netloc\n",
    "        # Remove port if present (e.g., 'example.com:8080' -> 'example.com')\n",
    "        netloc = netloc.split(\":\")[0]\n",
    "        # Split the domain by dots\n",
    "        parts = netloc.split(\".\")\n",
    "        # Return the last part as the domain extension\n",
    "        if len(parts) > 1 and len(parts) < 5:\n",
    "            return parts[-1]\n",
    "        else:\n",
    "            return \"\"  # Return empty string if no domain extension is found\n",
    "    except Exception as e:\n",
    "        print(f\"Error processing URL '{url}': {e}\")\n",
    "        return \"\"\n",
    "\n",
    "\n",
    "data_copy[\"domain_extension\"] = data[\"url\"].apply(domain_extension)\n",
    "pd.crosstab(data_copy[\"label\"], data_copy[\"domain_extension\"])"
   ]
  },
  {
   "cell_type": "code",
   "execution_count": null,
   "metadata": {},
   "outputs": [],
   "source": [
    "data_copy.to_csv(\"data.csv\", index=False)"
   ]
  },
  {
   "cell_type": "code",
   "execution_count": null,
   "metadata": {},
   "outputs": [],
   "source": [
    "def get_host_length(url):\n",
    "    try:\n",
    "        parsed_url = urlparse(url)\n",
    "        # Extract the host part and compute its length\n",
    "        host_length = len(parsed_url.netloc) if parsed_url.netloc else 0\n",
    "        return host_length\n",
    "    except Exception as e:\n",
    "        # Handle any parsing errors and return 0\n",
    "        print(f\"Error processing URL '{url}': {e}\")\n",
    "        return 0\n",
    "\n",
    "\n",
    "data_copy[\"len_host\"] = data[\"url\"].apply(get_host_length)\n",
    "pd.crosstab(data_copy[\"label\"], data_copy[\"len_host\"])"
   ]
  },
  {
   "cell_type": "code",
   "execution_count": null,
   "metadata": {},
   "outputs": [],
   "source": [
    "def get_path_length(url):\n",
    "    try:\n",
    "        parsed_url = urlparse(url)\n",
    "        # Extract the host part and compute its length\n",
    "        host_length = len(parsed_url.path) if parsed_url.path else 0\n",
    "        return host_length\n",
    "    except Exception as e:\n",
    "        # Handle any parsing errors and return 0\n",
    "        print(f\"Error processing URL '{url}': {e}\")\n",
    "        return 0\n",
    "\n",
    "\n",
    "data_copy[\"len_path\"] = data[\"url\"].apply(get_path_length)\n",
    "pd.crosstab(data_copy[\"label\"], data_copy[\"len_path\"])"
   ]
  },
  {
   "cell_type": "code",
   "execution_count": null,
   "metadata": {},
   "outputs": [],
   "source": [
    "data_copy.columns"
   ]
  },
  {
   "cell_type": "code",
   "execution_count": null,
   "metadata": {},
   "outputs": [],
   "source": [
    "data_copy.head()"
   ]
  },
  {
   "cell_type": "code",
   "execution_count": null,
   "metadata": {},
   "outputs": [],
   "source": [
    "data_copy[\"count_num_domain_extension\"].head()"
   ]
  }
 ],
 "metadata": {
  "kernelspec": {
   "display_name": "Python 3",
   "language": "python",
   "name": "python3"
  },
  "language_info": {
   "codemirror_mode": {
    "name": "ipython",
    "version": 3
   },
   "file_extension": ".py",
   "mimetype": "text/x-python",
   "name": "python",
   "nbconvert_exporter": "python",
   "pygments_lexer": "ipython3",
   "version": "3.11.4"
  }
 },
 "nbformat": 4,
 "nbformat_minor": 2
}
